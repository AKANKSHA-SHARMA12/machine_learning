{
 "cells": [
  {
   "cell_type": "code",
   "execution_count": 2,
   "metadata": {},
   "outputs": [],
   "source": [
    "import pandas as pd\n",
    "import numpy as np\n",
    "\n",
    "categories = ['alt.atheism', 'soc.religion.christian',\n",
    "             'comp.graphics', 'sci.med']"
   ]
  },
  {
   "cell_type": "code",
   "execution_count": 3,
   "metadata": {},
   "outputs": [],
   "source": [
    "from sklearn.datasets import fetch_20newsgroups\n",
    "twenty_train = fetch_20newsgroups(subset='train',\n",
    "   categories=categories, shuffle=True, random_state=42)"
   ]
  },
  {
   "cell_type": "code",
   "execution_count": 4,
   "metadata": {},
   "outputs": [
    {
     "data": {
      "text/plain": [
       "['alt.atheism', 'comp.graphics', 'sci.med', 'soc.religion.christian']"
      ]
     },
     "execution_count": 4,
     "metadata": {},
     "output_type": "execute_result"
    }
   ],
   "source": [
    "twenty_train.target_names"
   ]
  },
  {
   "cell_type": "code",
   "execution_count": 5,
   "metadata": {},
   "outputs": [
    {
     "data": {
      "text/plain": [
       "dict_keys(['data', 'filenames', 'target_names', 'target', 'DESCR'])"
      ]
     },
     "execution_count": 5,
     "metadata": {},
     "output_type": "execute_result"
    }
   ],
   "source": [
    "twenty_train.keys()"
   ]
  },
  {
   "cell_type": "code",
   "execution_count": 19,
   "metadata": {},
   "outputs": [
    {
     "data": {
      "text/plain": [
       "['From: djohnson@cs.ucsd.edu (Darin Johnson)',\n",
       " 'Subject: Re: harrassed at work, could use some prayers',\n",
       " 'Organization: =CSE Dept., U.C. San Diego',\n",
       " 'Lines: 63',\n",
       " '',\n",
       " \"(Well, I'll email also, but this may apply to other people, so\",\n",
       " \"I'll post also.)\",\n",
       " '',\n",
       " \">I've been working at this company for eight years in various\",\n",
       " \">engineering jobs.  I'm female.  Yesterday I counted and realized that\",\n",
       " \">on seven different occasions I've been sexually harrassed at this\",\n",
       " '>company.',\n",
       " '',\n",
       " '>I dreaded coming back to work today.  What if my boss comes in to ask',\n",
       " '>me some kind of question...',\n",
       " '',\n",
       " 'Your boss should be the person bring these problems to.  If he/she',\n",
       " 'does not seem to take any action, keep going up higher and higher.',\n",
       " 'Sexual harrassment does not need to be tolerated, and it can be an',\n",
       " 'enormous emotional support to discuss this with someone and know that',\n",
       " 'they are trying to do something about it.  If you feel you can not',\n",
       " 'discuss this with your boss, perhaps your company has a personnel',\n",
       " 'department that can work for you while preserving your privacy.  Most',\n",
       " 'companies will want to deal with this problem because constant anxiety',\n",
       " 'does seriously affect how effectively employees do their jobs.',\n",
       " '',\n",
       " 'It is unclear from your letter if you have done this or not.  It is',\n",
       " 'not inconceivable that management remains ignorant of employee',\n",
       " \"problems/strife even after eight years (it's a miracle if they do\",\n",
       " 'notice).  Perhaps your manager did not bring to the attention of',\n",
       " 'higher ups?  If the company indeed does seem to want to ignore the',\n",
       " 'entire problem, there may be a state agency willing to fight with',\n",
       " \"you.  (check with a lawyer, a women's resource center, etc to find out)\",\n",
       " '',\n",
       " 'You may also want to discuss this with your paster, priest, husband,',\n",
       " 'etc.  That is, someone you know will not be judgemental and that is',\n",
       " 'supportive, comforting, etc.  This will bring a lot of healing.',\n",
       " '',\n",
       " '>So I returned at 11:25, only to find that ever single',\n",
       " '>person had already left for lunch.  They left at 11:15 or so.  No one',\n",
       " '>could be bothered to call me at the other building, even though my',\n",
       " '>number was posted.',\n",
       " '',\n",
       " 'This happens to a lot of people.  Honest.  I believe it may seem',\n",
       " 'to be due to gross insensitivity because of the feelings you are',\n",
       " 'going through.  People in offices tend to be more insensitive while',\n",
       " \"working than they normally are (maybe it's the hustle or stress or...)\",\n",
       " \"I've had this happen to me a lot, often because they didn't realize\",\n",
       " 'my car was broken, etc.  Then they will come back and wonder why I',\n",
       " \"didn't want to go (this would tend to make me stop being angry at\",\n",
       " 'being ignored and make me laugh).  Once, we went off without our',\n",
       " 'boss, who was paying for the lunch :-)',\n",
       " '',\n",
       " '>For this',\n",
       " '>reason I hope good Mr. Moderator allows me this latest indulgence.',\n",
       " '',\n",
       " \"Well, if you can't turn to the computer for support, what would\",\n",
       " 'we do?  (signs of the computer age :-)',\n",
       " '',\n",
       " \"In closing, please don't let the hateful actions of a single person\",\n",
       " 'harm you.  They are doing it because they are still the playground',\n",
       " 'bully and enjoy seeing the hurt they cause.  And you should not',\n",
       " 'accept the opinions of an imbecile that you are worthless - much',\n",
       " 'wiser people hold you in great esteem.',\n",
       " '-- ',\n",
       " 'Darin Johnson',\n",
       " 'djohnson@ucsd.edu',\n",
       " '  - Luxury!  In MY day, we had to make do with 5 bytes of swap...',\n",
       " '']"
      ]
     },
     "execution_count": 19,
     "metadata": {},
     "output_type": "execute_result"
    }
   ],
   "source": [
    "twenty_train.data[2].split(\"\\n\")"
   ]
  },
  {
   "cell_type": "code",
   "execution_count": 20,
   "metadata": {},
   "outputs": [
    {
     "name": "stdout",
     "output_type": "stream",
     "text": [
      "From: djohnson@cs.ucsd.edu (Darin Johnson)\n",
      "Subject: Re: harrassed at work, could use some prayers\n",
      "Organization: =CSE Dept., U.C. San Diego\n",
      "Lines: 63\n",
      "\n",
      "(Well, I'll email also, but this may apply to other people, so\n",
      "I'll post also.)\n",
      "\n",
      ">I've been working at this company for eight years in various\n",
      ">engineering jobs.  I'm female.  Yesterday I counted and realized that\n",
      ">on seven different occasions I've been sexually harrassed at this\n",
      ">company.\n",
      "\n",
      ">I dreaded coming back to work today.  What if my boss comes in to ask\n",
      ">me some kind of question...\n",
      "\n",
      "Your boss should be the person bring these problems to.  If he/she\n",
      "does not seem to take any action, keep going up higher and higher.\n",
      "Sexual harrassment does not need to be tolerated, and it can be an\n",
      "enormous emotional support to discuss this with someone and know that\n"
     ]
    }
   ],
   "source": [
    "print(\"\\n\".join(twenty_train.data[2].split(\"\\n\")[:20]))\n"
   ]
  },
  {
   "cell_type": "code",
   "execution_count": 8,
   "metadata": {},
   "outputs": [
    {
     "data": {
      "text/plain": [
       "(2257, 35788)"
      ]
     },
     "execution_count": 8,
     "metadata": {},
     "output_type": "execute_result"
    }
   ],
   "source": [
    "from sklearn.feature_extraction.text import CountVectorizer\n",
    "count_vect = CountVectorizer()\n",
    "X_train_counts = count_vect.fit_transform(twenty_train.data)\n",
    "X_train_counts.shape"
   ]
  },
  {
   "cell_type": "code",
   "execution_count": 9,
   "metadata": {},
   "outputs": [
    {
     "data": {
      "text/plain": [
       "<2257x35788 sparse matrix of type '<class 'numpy.int64'>'\n",
       "\twith 365886 stored elements in Compressed Sparse Row format>"
      ]
     },
     "execution_count": 9,
     "metadata": {},
     "output_type": "execute_result"
    }
   ],
   "source": [
    "X_train_counts"
   ]
  },
  {
   "cell_type": "code",
   "execution_count": 10,
   "metadata": {},
   "outputs": [],
   "source": [
    "from sklearn.feature_extraction.text import TfidfTransformer\n"
   ]
  },
  {
   "cell_type": "code",
   "execution_count": 11,
   "metadata": {},
   "outputs": [
    {
     "data": {
      "text/plain": [
       "(2257, 35788)"
      ]
     },
     "execution_count": 11,
     "metadata": {},
     "output_type": "execute_result"
    }
   ],
   "source": [
    "tfidf_transformer = TfidfTransformer()\n",
    "X_train_tfidf = tfidf_transformer.fit_transform(X_train_counts)\n",
    "X_train_tfidf.shape"
   ]
  },
  {
   "cell_type": "code",
   "execution_count": 12,
   "metadata": {},
   "outputs": [],
   "source": [
    "from sklearn.naive_bayes import MultinomialNB\n",
    "clf = MultinomialNB().fit(X_train_tfidf, twenty_train.target)"
   ]
  },
  {
   "cell_type": "markdown",
   "metadata": {},
   "source": [
    "BUILDING A PIPELINE"
   ]
  },
  {
   "cell_type": "code",
   "execution_count": 13,
   "metadata": {},
   "outputs": [],
   "source": [
    "from sklearn.pipeline import Pipeline\n",
    "text_clf = Pipeline([('vect', CountVectorizer()),\n",
    "                      ('tfidf', TfidfTransformer()),\n",
    "                      ('clf', MultinomialNB()),\n",
    "])\n"
   ]
  },
  {
   "cell_type": "code",
   "execution_count": 14,
   "metadata": {},
   "outputs": [
    {
     "data": {
      "text/plain": [
       "Pipeline(memory=None,\n",
       "         steps=[('vect',\n",
       "                 CountVectorizer(analyzer='word', binary=False,\n",
       "                                 decode_error='strict',\n",
       "                                 dtype=<class 'numpy.int64'>, encoding='utf-8',\n",
       "                                 input='content', lowercase=True, max_df=1.0,\n",
       "                                 max_features=None, min_df=1,\n",
       "                                 ngram_range=(1, 1), preprocessor=None,\n",
       "                                 stop_words=None, strip_accents=None,\n",
       "                                 token_pattern='(?u)\\\\b\\\\w\\\\w+\\\\b',\n",
       "                                 tokenizer=None, vocabulary=None)),\n",
       "                ('tfidf',\n",
       "                 TfidfTransformer(norm='l2', smooth_idf=True,\n",
       "                                  sublinear_tf=False, use_idf=True)),\n",
       "                ('clf',\n",
       "                 MultinomialNB(alpha=1.0, class_prior=None, fit_prior=True))],\n",
       "         verbose=False)"
      ]
     },
     "execution_count": 14,
     "metadata": {},
     "output_type": "execute_result"
    }
   ],
   "source": [
    "text_clf.fit(twenty_train.data, twenty_train.target)"
   ]
  },
  {
   "cell_type": "code",
   "execution_count": 15,
   "metadata": {},
   "outputs": [
    {
     "data": {
      "text/plain": [
       "0.8348868175765646"
      ]
     },
     "execution_count": 15,
     "metadata": {},
     "output_type": "execute_result"
    }
   ],
   "source": [
    "import numpy as np\n",
    "twenty_test = fetch_20newsgroups(subset='test',\n",
    "                                 categories=categories, shuffle=True, random_state=42)\n",
    "docs_test = twenty_test.data\n",
    "predicted = text_clf.predict(docs_test)\n",
    "np.mean(predicted == twenty_test.target) \n"
   ]
  },
  {
   "cell_type": "code",
   "execution_count": 16,
   "metadata": {},
   "outputs": [
    {
     "name": "stdout",
     "output_type": "stream",
     "text": [
      "'God is love' => soc.religion.christian\n",
      "'Corona is pandemic' => sci.med\n"
     ]
    }
   ],
   "source": [
    "docs_new = ['God is love', 'Corona is pandemic']\n",
    "X_new_counts = count_vect.transform(docs_new)\n",
    "X_new_tfidf = tfidf_transformer.transform(X_new_counts)\n",
    "predicted = clf.predict(X_new_tfidf)\n",
    "for doc, category in zip(docs_new, predicted):\n",
    "    print('%r => %s' % (doc, twenty_train.target_names[category]))\n"
   ]
  },
  {
   "cell_type": "code",
   "execution_count": null,
   "metadata": {},
   "outputs": [],
   "source": []
  },
  {
   "cell_type": "code",
   "execution_count": null,
   "metadata": {},
   "outputs": [],
   "source": []
  }
 ],
 "metadata": {
  "kernelspec": {
   "display_name": "Python 3",
   "language": "python",
   "name": "python3"
  },
  "language_info": {
   "codemirror_mode": {
    "name": "ipython",
    "version": 3
   },
   "file_extension": ".py",
   "mimetype": "text/x-python",
   "name": "python",
   "nbconvert_exporter": "python",
   "pygments_lexer": "ipython3",
   "version": "3.7.3"
  }
 },
 "nbformat": 4,
 "nbformat_minor": 2
}
